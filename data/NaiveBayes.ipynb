{
  "nbformat": 4,
  "nbformat_minor": 0,
  "metadata": {
    "colab": {
      "name": "NaiveBayes.ipynb",
      "version": "0.3.2",
      "provenance": [],
      "collapsed_sections": [
        "WI1vD4f_9U34"
      ]
    },
    "kernelspec": {
      "name": "python3",
      "display_name": "Python 3"
    }
  },
  "cells": [
    {
      "cell_type": "markdown",
      "metadata": {
        "id": "WI1vD4f_9U34",
        "colab_type": "text"
      },
      "source": [
        "## Required Imports"
      ]
    },
    {
      "cell_type": "code",
      "metadata": {
        "id": "lHqc_3rT9Yfy",
        "colab_type": "code",
        "outputId": "236483cb-26d5-409f-b542-36de0d7b5b7d",
        "colab": {
          "base_uri": "https://localhost:8080/"
        }
      },
      "source": [
        "!pip3 install pyro-ppl\n",
        "\n",
        "import pyro\n",
        "import torch\n",
        "import torch.nn\n",
        "import matplotlib\n",
        "import pyro.optim as optim\n",
        "import pyro.distributions as dist\n",
        "from torch.distributions import constraints, Normal, Categorical\n",
        "import seaborn as sns\n",
        "from pyro.infer import SVI, Trace_ELBO\n",
        "from tqdm import tqdm_notebook as tqdm\n",
        "import numpy as np\n",
        "import matplotlib.pyplot as plt\n",
        "from matplotlib import colors\n",
        "from IPython import display\n",
        "import os\n",
        "from PIL import Image\n",
        "from torch.utils.data.dataset import Dataset\n",
        "# from scipy.misc import imread\n",
        "%matplotlib inline"
      ],
      "execution_count": 0,
      "outputs": [
        {
          "output_type": "stream",
          "text": [
            "Collecting pyro-ppl\n",
            "\u001b[?25l  Downloading https://files.pythonhosted.org/packages/c0/e1/d67bf6252b9a0a1034bfd81c23fd28cdb8078670187f60084c1785bcae42/pyro-ppl-0.3.3.tar.gz (231kB)\n",
            "\u001b[K     |████████████████████████████████| 235kB 4.8MB/s \n",
            "\u001b[?25hRequirement already satisfied: contextlib2 in /usr/local/lib/python3.6/dist-packages (from pyro-ppl) (0.5.5)\n",
            "Requirement already satisfied: graphviz>=0.8 in /usr/local/lib/python3.6/dist-packages (from pyro-ppl) (0.10.1)\n",
            "Requirement already satisfied: numpy>=1.7 in /usr/local/lib/python3.6/dist-packages (from pyro-ppl) (1.16.4)\n",
            "Collecting opt_einsum>=2.3.2 (from pyro-ppl)\n",
            "\u001b[?25l  Downloading https://files.pythonhosted.org/packages/f6/d6/44792ec668bcda7d91913c75237314e688f70415ab2acd7172c845f0b24f/opt_einsum-2.3.2.tar.gz (59kB)\n",
            "\u001b[K     |████████████████████████████████| 61kB 20.3MB/s \n",
            "\u001b[?25hRequirement already satisfied: six>=1.10.0 in /usr/local/lib/python3.6/dist-packages (from pyro-ppl) (1.12.0)\n",
            "Requirement already satisfied: torch>=1.1.0 in /usr/local/lib/python3.6/dist-packages (from pyro-ppl) (1.1.0)\n",
            "Collecting tqdm>=4.31 (from pyro-ppl)\n",
            "\u001b[?25l  Downloading https://files.pythonhosted.org/packages/45/af/685bf3ce889ea191f3b916557f5677cc95a5e87b2fa120d74b5dd6d049d0/tqdm-4.32.1-py2.py3-none-any.whl (49kB)\n",
            "\u001b[K     |████████████████████████████████| 51kB 17.1MB/s \n",
            "\u001b[?25hBuilding wheels for collected packages: pyro-ppl, opt-einsum\n",
            "  Building wheel for pyro-ppl (setup.py) ... \u001b[?25l\u001b[?25hdone\n",
            "  Stored in directory: /root/.cache/pip/wheels/37/6b/8b/8d15c6042ed38db155158baf56c1949a6e12d5d709697b0c37\n",
            "  Building wheel for opt-einsum (setup.py) ... \u001b[?25l\u001b[?25hdone\n",
            "  Stored in directory: /root/.cache/pip/wheels/51/3e/a3/b351fae0cbf15373c2136a54a70f43fea5fe91d8168a5faaa4\n",
            "Successfully built pyro-ppl opt-einsum\n",
            "Installing collected packages: opt-einsum, tqdm, pyro-ppl\n",
            "  Found existing installation: tqdm 4.28.1\n",
            "    Uninstalling tqdm-4.28.1:\n",
            "      Successfully uninstalled tqdm-4.28.1\n",
            "Successfully installed opt-einsum-2.3.2 pyro-ppl-0.3.3 tqdm-4.32.1\n"
          ],
          "name": "stdout"
        },
        {
          "output_type": "display_data",
          "data": {
            "application/vnd.colab-display-data+json": {
              "pip_warning": {
                "packages": [
                  "tqdm"
                ]
              }
            }
          },
          "metadata": {
            "tags": []
          }
        }
      ]
    },
    {
      "cell_type": "code",
      "metadata": {
        "id": "DENYXF6irK0e",
        "colab_type": "code",
        "colab": {}
      },
      "source": [
        "from sklearn import datasets\n",
        "from sklearn.naive_bayes import GaussianNB\n",
        "from sklearn import metrics"
      ],
      "execution_count": 0,
      "outputs": []
    },
    {
      "cell_type": "code",
      "metadata": {
        "colab_type": "code",
        "id": "CwHvjInybA3k",
        "colab": {}
      },
      "source": [
        "df = sns.load_dataset('iris')\n",
        "df.loc[df['species'].values == 'setosa', df.columns == 'species'] = 0\n",
        "df.loc[df['species'].values == 'virginica', df.columns == 'species'] = 1\n",
        "df.loc[df['species'].values == 'versicolor', df.columns == 'species'] = 2\n",
        "df.head()\n",
        "x = torch.Tensor(df.loc[:, df.columns != 'species'].values)\n",
        "y = torch.Tensor(df.loc[:, df.columns == 'species'].values)\n",
        "y = y.reshape((-1, ))"
      ],
      "execution_count": 0,
      "outputs": []
    },
    {
      "cell_type": "markdown",
      "metadata": {
        "id": "RbZbTZyU92NA",
        "colab_type": "text"
      },
      "source": [
        "## Naive Bayes"
      ]
    },
    {
      "cell_type": "code",
      "metadata": {
        "id": "ypIGrxQcIaE-",
        "colab_type": "code",
        "colab": {}
      },
      "source": [
        "data = datasets.load_iris()\n",
        "x_data = torch.Tensor(data.data)\n",
        "y_data = torch.Tensor(data.target)\n",
        "samples_count = len(y_data)\n",
        "C_count = 3\n",
        "A_count = 4"
      ],
      "execution_count": 0,
      "outputs": []
    },
    {
      "cell_type": "code",
      "metadata": {
        "id": "PzMim-GkRvlD",
        "colab_type": "code",
        "colab": {}
      },
      "source": [
        "def calc_class_probs(x, mean, std):\n",
        "    class_probs = torch.ones(samples_count, C_count)\n",
        "    \n",
        "    for c in range(C_count):\n",
        "      \n",
        "      att_probs = torch.ones(samples_count, A_count)\n",
        "      for a in range(A_count):\n",
        "        value = Normal(loc=mean[a, c], scale=softplus(std[a, c])).log_prob(x[:, a])\n",
        "        att_probs[:,a] = value\n",
        "      \n",
        "      sum = torch.sum(att_probs, dim=1)\n",
        "      class_probs[:,c] = sum\n",
        "    \n",
        "    class_probs = torch.exp(class_probs)\n",
        "    \n",
        "    return class_probs\n",
        "\n",
        "\n",
        "softplus = torch.nn.Softplus()"
      ],
      "execution_count": 0,
      "outputs": []
    },
    {
      "cell_type": "code",
      "metadata": {
        "id": "wfpU4e1E97EG",
        "colab_type": "code",
        "colab": {}
      },
      "source": [
        "def model(x_data, y_data):\n",
        "  \n",
        "  with pyro.plate('c', C_count):\n",
        "    with pyro.plate('a', A_count):\n",
        "      mean_prior = pyro.distributions.Normal(loc=torch.ones(A_count, C_count), scale=torch.ones(A_count, C_count))\n",
        "      std_prior = pyro.distributions.Normal(loc=torch.ones(A_count, C_count), scale=torch.ones(A_count, C_count))\n",
        "      mean_sample = pyro.sample('mean_sample', mean_prior)\n",
        "      std_sample = pyro.sample('std_sample', std_prior)\n",
        "      \n",
        "  class_probs = calc_class_probs(x_data, mean_sample, std_sample)\n",
        "  \n",
        "  with pyro.plate('map', len(y_data)):\n",
        "    predictions = Categorical(probs=class_probs)\n",
        "    pyro.sample(\"obs\", predictions, obs=y_data)"
      ],
      "execution_count": 0,
      "outputs": []
    },
    {
      "cell_type": "code",
      "metadata": {
        "id": "QQr2-Gsg4Kw-",
        "colab_type": "code",
        "colab": {}
      },
      "source": [
        "def guide(x_data, y_data):\n",
        "    mean_mean = pyro.param(\"mean_mean\", torch.ones(A_count, C_count))\n",
        "    mean_scale = pyro.param(\"mean_std\", torch.ones(A_count, C_count), constraint=constraints.positive)\n",
        "    std_mean = pyro.param(\"std_mean\", torch.ones(A_count, C_count))\n",
        "    std_scale = pyro.param(\"std_std\", torch.ones(A_count, C_count), constraint=constraints.positive)\n",
        "    \n",
        " \n",
        "    with pyro.plate('c', size=C_count):\n",
        "        with pyro.plate('a', size=A_count):\n",
        "            mean_prior = pyro.distributions.Normal(loc=mean_mean, scale=mean_scale)\n",
        "            std_prior = pyro.distributions.Normal(loc=std_mean, scale=std_scale)\n",
        "            mean_sample = pyro.sample('mean_sample', mean_prior)\n",
        "            std_sample = pyro.sample('std_sample', std_prior)\n",
        "\n",
        "            \n",
        "    return mean_sample, std_sample"
      ],
      "execution_count": 0,
      "outputs": []
    },
    {
      "cell_type": "code",
      "metadata": {
        "id": "OvjGOEgVhqHM",
        "colab_type": "code",
        "colab": {}
      },
      "source": [
        "def train():\n",
        "    pyro.clear_param_store()\n",
        "    num_iterations=1000\n",
        "    optim = pyro.optim.Adam({\"lr\": 0.05})\n",
        "    svi = SVI(model, guide, optim, loss=Trace_ELBO())\n",
        "    t=tqdm(range(num_iterations))\n",
        "    for j in t:\n",
        "        loss = svi.step(x, y)\n",
        "        t.set_postfix(loss=loss)\n",
        "    return (model, svi)"
      ],
      "execution_count": 0,
      "outputs": []
    },
    {
      "cell_type": "code",
      "metadata": {
        "id": "iusDXZqJRn1V",
        "colab_type": "code",
        "outputId": "e245de3c-1e70-4cd7-e1c2-732f3a52f170",
        "colab": {
          "base_uri": "https://localhost:8080/",
          "height": 34
        }
      },
      "source": [
        "train()\n",
        "\n",
        "params = guide(None, None)\n",
        "\n",
        "class_probs = calc_class_probs(x, params[0], params[1])\n",
        "predictions = torch.argmax(class_probs, dim=1)\n",
        "\n",
        "accuracy = np.count_nonzero((y==predictions.type(torch.float)).detach().numpy()) / len(predictions)\n",
        "print(accuracy)"
      ],
      "execution_count": 0,
      "outputs": [
        {
          "output_type": "stream",
          "text": [
            "0.96\n"
          ],
          "name": "stdout"
        }
      ]
    },
    {
      "cell_type": "code",
      "metadata": {
        "id": "8HH8BhY-DvpN",
        "colab_type": "code",
        "outputId": "36a14395-a3f3-4280-f16c-a7337f4e2c63",
        "colab": {
          "base_uri": "https://localhost:8080/",
          "height": 34
        }
      },
      "source": [
        "NaiveBayes = GaussianNB()\n",
        "NaiveBayes.fit(x_data, y_data)\n",
        "y_hat = NaiveBayes.predict(x_data)\n",
        "metrics.accuracy_score(y_data, y_hat)"
      ],
      "execution_count": 0,
      "outputs": [
        {
          "output_type": "execute_result",
          "data": {
            "text/plain": [
              "0.96"
            ]
          },
          "metadata": {
            "tags": []
          },
          "execution_count": 10
        }
      ]
    }
  ]
}